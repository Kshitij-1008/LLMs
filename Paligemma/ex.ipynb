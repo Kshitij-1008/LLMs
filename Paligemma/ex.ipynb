{
 "cells": [
  {
   "cell_type": "code",
   "execution_count": 3,
   "id": "91e53a6f",
   "metadata": {},
   "outputs": [
    {
     "data": {
      "text/plain": [
       "torch.Size([4, 3, 224, 224])"
      ]
     },
     "execution_count": 3,
     "metadata": {},
     "output_type": "execute_result"
    }
   ],
   "source": [
    "import torch \n",
    "import torch.nn as nn\n",
    "pixel_values = torch.randn(4, 3, 224, 224)\n",
    "pixel_values.shape"
   ]
  },
  {
   "cell_type": "code",
   "execution_count": 5,
   "id": "815ab1f0",
   "metadata": {},
   "outputs": [],
   "source": [
    "conv = nn.Conv2d(in_channels = 3, out_channels = 768, kernel_size=16, stride=16, padding='valid')"
   ]
  },
  {
   "cell_type": "code",
   "execution_count": 8,
   "id": "6b230532",
   "metadata": {},
   "outputs": [
    {
     "data": {
      "text/plain": [
       "torch.Size([4, 768, 14, 14])"
      ]
     },
     "execution_count": 8,
     "metadata": {},
     "output_type": "execute_result"
    }
   ],
   "source": [
    "conv(pixel_values).shape"
   ]
  },
  {
   "cell_type": "code",
   "execution_count": 10,
   "id": "b5e0d40c",
   "metadata": {},
   "outputs": [
    {
     "data": {
      "text/plain": [
       "torch.Size([4, 196, 768])"
      ]
     },
     "execution_count": 10,
     "metadata": {},
     "output_type": "execute_result"
    }
   ],
   "source": [
    "conv(pixel_values).flatten(2).transpose(-2, -1).shape"
   ]
  },
  {
   "cell_type": "code",
   "execution_count": 1,
   "id": "7f146fd1",
   "metadata": {},
   "outputs": [],
   "source": [
    "import torch"
   ]
  },
  {
   "cell_type": "code",
   "execution_count": 21,
   "id": "3267cd97",
   "metadata": {},
   "outputs": [
    {
     "data": {
      "text/plain": [
       "tensor([[1., 0., 0., 0., 0., 0., 0., 0.],\n",
       "        [1., 1., 0., 0., 0., 0., 0., 0.],\n",
       "        [1., 1., 1., 0., 0., 0., 0., 0.],\n",
       "        [1., 1., 1., 1., 0., 0., 0., 0.],\n",
       "        [1., 1., 1., 1., 1., 0., 0., 0.],\n",
       "        [1., 1., 1., 1., 1., 1., 0., 0.],\n",
       "        [1., 1., 1., 1., 1., 1., 1., 0.],\n",
       "        [1., 1., 1., 1., 1., 1., 1., 1.]])"
      ]
     },
     "execution_count": 21,
     "metadata": {},
     "output_type": "execute_result"
    }
   ],
   "source": [
    "bias = torch.tril(torch.ones(size=(8,8)))\n",
    "bias"
   ]
  },
  {
   "cell_type": "code",
   "execution_count": 5,
   "id": "c021fcbe",
   "metadata": {},
   "outputs": [
    {
     "data": {
      "text/plain": [
       "tensor([[ 0.3784, -0.1677,  0.6594, -2.2096,  0.9106,  0.3928,  0.5163, -1.4784],\n",
       "        [ 1.1493, -0.2649,  0.3257,  0.9281,  1.8215, -0.6997, -0.5771, -0.1153],\n",
       "        [-1.0783,  0.0145, -0.6181, -0.0283,  0.6501, -0.1685, -0.3230,  0.3624],\n",
       "        [-0.6954, -0.8433, -1.0251,  0.9460,  1.1891,  1.6096,  0.1554, -0.6210],\n",
       "        [-0.1633,  1.4113, -0.5695, -1.4110, -0.4287,  1.8338,  0.0833,  0.4711],\n",
       "        [-0.0108,  0.6817, -0.5105,  0.1147,  0.7083, -0.2359, -0.7061, -0.4890],\n",
       "        [-2.1594, -0.2978, -0.9799,  1.0172, -0.1355, -0.8475,  0.3940, -0.0637],\n",
       "        [-0.6191,  0.2975,  0.0156, -1.5250,  1.5943,  0.2346,  0.9808, -0.9203]])"
      ]
     },
     "execution_count": 5,
     "metadata": {},
     "output_type": "execute_result"
    }
   ],
   "source": [
    "x = torch.randn(size=(8,8))\n",
    "x"
   ]
  },
  {
   "cell_type": "code",
   "execution_count": 23,
   "id": "3252fbdf",
   "metadata": {},
   "outputs": [
    {
     "data": {
      "text/plain": [
       "tensor([[ 0.3784,    -inf,    -inf,    -inf,    -inf,    -inf,    -inf,    -inf],\n",
       "        [ 1.1493, -0.2649,    -inf,    -inf,    -inf,    -inf,    -inf,    -inf],\n",
       "        [-1.0783,  0.0145, -0.6181,    -inf,    -inf,    -inf,    -inf,    -inf],\n",
       "        [-0.6954, -0.8433, -1.0251,  0.9460,    -inf,    -inf,    -inf,    -inf],\n",
       "        [-0.1633,  1.4113, -0.5695, -1.4110, -0.4287,    -inf,    -inf,    -inf],\n",
       "        [-0.0108,  0.6817, -0.5105,  0.1147,  0.7083, -0.2359,    -inf,    -inf],\n",
       "        [-2.1594, -0.2978, -0.9799,  1.0172, -0.1355, -0.8475,  0.3940,    -inf],\n",
       "        [-0.6191,  0.2975,  0.0156, -1.5250,  1.5943,  0.2346,  0.9808, -0.9203]])"
      ]
     },
     "execution_count": 23,
     "metadata": {},
     "output_type": "execute_result"
    }
   ],
   "source": [
    "a = x.masked_fill(bias== 0, float('-inf'))\n",
    "a "
   ]
  },
  {
   "cell_type": "code",
   "execution_count": 25,
   "id": "79722c15",
   "metadata": {},
   "outputs": [
    {
     "data": {
      "text/plain": [
       "tensor([[1.0000, 0.0000, 0.0000, 0.0000, 0.0000, 0.0000, 0.0000, 0.0000],\n",
       "        [0.8044, 0.1956, 0.0000, 0.0000, 0.0000, 0.0000, 0.0000, 0.0000],\n",
       "        [0.1796, 0.5358, 0.2846, 0.0000, 0.0000, 0.0000, 0.0000, 0.0000],\n",
       "        [0.1291, 0.1114, 0.0929, 0.6666, 0.0000, 0.0000, 0.0000, 0.0000],\n",
       "        [0.1325, 0.6397, 0.0882, 0.0380, 0.1016, 0.0000, 0.0000, 0.0000],\n",
       "        [0.1317, 0.2633, 0.0799, 0.1494, 0.2704, 0.1052, 0.0000, 0.0000],\n",
       "        [0.0170, 0.1095, 0.0553, 0.4077, 0.1287, 0.0632, 0.2186, 0.0000],\n",
       "        [0.0435, 0.1088, 0.0821, 0.0176, 0.3981, 0.1022, 0.2155, 0.0322]])"
      ]
     },
     "execution_count": 25,
     "metadata": {},
     "output_type": "execute_result"
    }
   ],
   "source": [
    "torch.nn.functional.softmax(a, dim=-1)"
   ]
  },
  {
   "cell_type": "code",
   "execution_count": 17,
   "id": "e4271744",
   "metadata": {},
   "outputs": [
    {
     "name": "stdout",
     "output_type": "stream",
     "text": [
      "['<loc0000>', '<loc0001>', '<loc0002>', '<loc0003>', '<loc0004>', '<loc0005>', '<loc0006>', '<loc0007>', '<loc0008>', '<loc0009>', '<loc0010>', '<loc0011>']\n",
      "['<seg00>', '<seg01>', '<seg02>', '<seg03>', '<seg04>', '<seg05>', '<seg06>', '<seg07>', '<seg08>', '<seg09>', '<seg10>', '<seg11>']\n"
     ]
    }
   ],
   "source": [
    "tokens = [f\"<loc{i:04d}>\" for i in range(12)]\n",
    "print(tokens)\n",
    "tokens = [f\"<seg{i:02d}>\" for i in range(12)]\n",
    "print(tokens)"
   ]
  },
  {
   "cell_type": "code",
   "execution_count": null,
   "id": "787705aa",
   "metadata": {},
   "outputs": [],
   "source": []
  }
 ],
 "metadata": {
  "kernelspec": {
   "display_name": "Python 3",
   "language": "python",
   "name": "python3"
  },
  "language_info": {
   "codemirror_mode": {
    "name": "ipython",
    "version": 3
   },
   "file_extension": ".py",
   "mimetype": "text/x-python",
   "name": "python",
   "nbconvert_exporter": "python",
   "pygments_lexer": "ipython3",
   "version": "3.10.5"
  }
 },
 "nbformat": 4,
 "nbformat_minor": 5
}
